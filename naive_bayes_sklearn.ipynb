{
 "cells": [
  {
   "cell_type": "code",
   "execution_count": 238,
   "metadata": {},
   "outputs": [],
   "source": [
    "#import libraries\n",
    "import pandas as pd\n",
    "import numpy as np\n",
    "\n",
    "\n",
    "import sklearn\n",
    "from sklearn import metrics\n",
    "from sklearn.naive_bayes import MultinomialNB\n",
    "from sklearn.model_selection import train_test_split\n",
    "\n"
   ]
  },
  {
   "cell_type": "code",
   "execution_count": 239,
   "metadata": {},
   "outputs": [],
   "source": [
    "#loading subjects and bodies\n",
    "data_b = pd.read_csv(\"dbworld_bodies_stemmed.csv\")\n",
    "data_s = pd.read_csv(\"dbworld_subjects_stemmed.csv\")"
   ]
  },
  {
   "cell_type": "code",
   "execution_count": 240,
   "metadata": {},
   "outputs": [],
   "source": [
    "#separate features and class for bodies and subjects\n",
    "xb = data_b.iloc[:,1:-1]\n",
    "yb = data_b['CLASS']\n",
    "xs = data_s.iloc[:,1:-1]\n",
    "ys = data_s['CLASS']\n",
    "\n",
    "# yb.head()"
   ]
  },
  {
   "cell_type": "code",
   "execution_count": 241,
   "metadata": {},
   "outputs": [],
   "source": [
    "#Splitting data for training and testing\n",
    "xb_train, xb_test, yb_train, yb_test = train_test_split(xb,yb,test_size = 0.2,random_state = 20)\n",
    "xs_train, xs_test, ys_train, ys_test = train_test_split(xs,ys,test_size = 0.2,random_state = 20)"
   ]
  },
  {
   "cell_type": "code",
   "execution_count": 242,
   "metadata": {},
   "outputs": [
    {
     "data": {
      "text/plain": [
       "MultinomialNB()"
      ]
     },
     "execution_count": 242,
     "metadata": {},
     "output_type": "execute_result"
    }
   ],
   "source": [
    "#Train subjects and bodies model\n",
    "model_b = MultinomialNB()\n",
    "model_s = MultinomialNB()\n",
    "\n",
    "model_b.fit(xb_train,yb_train)\n",
    "model_s.fit(xs_train,ys_train)"
   ]
  },
  {
   "cell_type": "code",
   "execution_count": 243,
   "metadata": {},
   "outputs": [],
   "source": [
    "#Predicting test data\n",
    "yb_pred = model_b.predict(xb_test)\n",
    "ys_pred = model_s.predict(xs_test)"
   ]
  },
  {
   "cell_type": "code",
   "execution_count": 244,
   "metadata": {},
   "outputs": [],
   "source": [
    "#Calculating f measure\n",
    "def fmeasure(pred_values, true_values):\n",
    "\t\n",
    "\tTP, TN, FP, FN = 0, 0, 0, 0\n",
    "\n",
    "\tfor p, a in zip(pred_values, true_values):\n",
    "\t\tif p == 0 and a == 0:\n",
    "\t\t\tTP = TP + 1\n",
    "\t\telif p == 1 and a == 1:\n",
    "\t\t\tTN = TN + 1\n",
    "\t\telif p == 0 and a == 1:\n",
    "\t\t\tFP = FP + 1\n",
    "\t\telif p == 1 and a == 0:\n",
    "\t\t\tFN = FN + 1\n",
    "\n",
    "\tPre = TP / (TP + FP)\n",
    "\tRec = TP / (TP + FN)\n",
    "\n",
    "\tf_measure = (2 * Pre * Rec) / (Pre + Rec)\n",
    "\n",
    "\treturn f_measure"
   ]
  },
  {
   "cell_type": "code",
   "execution_count": 245,
   "metadata": {},
   "outputs": [
    {
     "name": "stdout",
     "output_type": "stream",
     "text": [
      "sklearn_f_measure of email body:  0.7692307692307693\n",
      "sklearn_f_measure of email subject:  0.8571428571428571\n"
     ]
    }
   ],
   "source": [
    "#Printing f measure\n",
    "f_measure_body = fmeasure(yb_test,yb_pred)\n",
    "f_measure_subject = fmeasure(ys_test,ys_pred)\n",
    "print(\"sklearn_f_measure of email body: \",f_measure_body)\n",
    "print(\"sklearn_f_measure of email subject: \",f_measure_subject)"
   ]
  },
  {
   "cell_type": "markdown",
   "metadata": {},
   "source": [
    "Email Subject provides better classification since it has more f measure value compared to email body with sklearn implementation"
   ]
  },
  {
   "cell_type": "markdown",
   "metadata": {},
   "source": [
    "My classifier f measure values are similar to sklearn implementation values"
   ]
  }
 ],
 "metadata": {
  "interpreter": {
   "hash": "c3dc909af7eef96a37a460b9be5b688fc0a118680601022b0514c6f951bac496"
  },
  "kernelspec": {
   "display_name": "Python 3.9.9 64-bit (windows store)",
   "language": "python",
   "name": "python3"
  },
  "language_info": {
   "codemirror_mode": {
    "name": "ipython",
    "version": 3
   },
   "file_extension": ".py",
   "mimetype": "text/x-python",
   "name": "python",
   "nbconvert_exporter": "python",
   "pygments_lexer": "ipython3",
   "version": "3.9.6"
  },
  "orig_nbformat": 4
 },
 "nbformat": 4,
 "nbformat_minor": 2
}
